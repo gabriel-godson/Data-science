{
 "cells": [
  {
   "cell_type": "code",
   "execution_count": 55,
   "id": "c41befa6",
   "metadata": {},
   "outputs": [],
   "source": [
    "import pandas as pd\n",
    "import numpy as np"
   ]
  },
  {
   "cell_type": "code",
   "execution_count": null,
   "id": "9a8a35e5",
   "metadata": {},
   "outputs": [],
   "source": [
    "df = pd.read_csv(\"C:\\\\Users\\\\ADMIN\\\\Desktop\\\\FoodBalanceSheets_E_Africa_NOFLAG.csv\", encoding = \"latin-1\")\n",
    "df.head()"
   ]
  },
  {
   "cell_type": "code",
   "execution_count": null,
   "id": "88067e94",
   "metadata": {},
   "outputs": [],
   "source": [
    "df.shape\n",
    "#to check for rows and column in the data set\n",
    "\n",
    "#my_tuppy = (1,2,5,8)\n",
    "#my_tuppy[2] = 6"
   ]
  },
  {
   "cell_type": "code",
   "execution_count": null,
   "id": "2a69ec61",
   "metadata": {},
   "outputs": [],
   "source": [
    "df.groupby(['Element']).sum()"
   ]
  },
  {
   "cell_type": "code",
   "execution_count": null,
   "id": "c74460fe",
   "metadata": {},
   "outputs": [],
   "source": [
    "df.groupby([\"Area\"]).count()\n",
    "#total number of unique countries in the data set"
   ]
  },
  {
   "cell_type": "code",
   "execution_count": null,
   "id": "2194e241",
   "metadata": {},
   "outputs": [],
   "source": [
    "df.groupby([\"Y2017\",\"Area\"]).count()"
   ]
  },
  {
   "cell_type": "code",
   "execution_count": null,
   "id": "06b30b48",
   "metadata": {},
   "outputs": [],
   "source": [
    "print(\"the mean is :\", df[\"Y2017\"].mean())\n",
    "\n",
    "print(\"the standard deviation is : \" , df[\"Y2017\"].std())"
   ]
  },
  {
   "cell_type": "code",
   "execution_count": null,
   "id": "33be36d1",
   "metadata": {},
   "outputs": [],
   "source": [
    "df.groupby([\"Element\"]).sum()"
   ]
  },
  {
   "cell_type": "code",
   "execution_count": null,
   "id": "4b20b126",
   "metadata": {},
   "outputs": [],
   "source": [
    "df.groupby([\"Y2014\"]).value_counts().isnull()"
   ]
  },
  {
   "cell_type": "code",
   "execution_count": null,
   "id": "d9b326bd",
   "metadata": {},
   "outputs": [],
   "source": [
    "lst =[[35,'Portugal',94], [33,'Argentina',93],[30,'Brazil',92]]\n",
    "col = ['Age','Nationality','Overall']\n",
    "\n",
    "pd.Dataframe(lst,column-['Age','Nationality','Overall'], index-[1,2,3])"
   ]
  }
 ],
 "metadata": {
  "kernelspec": {
   "display_name": "Python 3",
   "language": "python",
   "name": "python3"
  },
  "language_info": {
   "codemirror_mode": {
    "name": "ipython",
    "version": 3
   },
   "file_extension": ".py",
   "mimetype": "text/x-python",
   "name": "python",
   "nbconvert_exporter": "python",
   "pygments_lexer": "ipython3",
   "version": "3.12.10"
  }
 },
 "nbformat": 4,
 "nbformat_minor": 5
}
